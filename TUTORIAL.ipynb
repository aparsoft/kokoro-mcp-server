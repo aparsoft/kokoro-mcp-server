{
 "cells": [
  {
   "cell_type": "markdown",
   "id": "84983120",
   "metadata": {},
   "source": [
    "# Aparsoft TTS - Complete Tutorial: Basic to Advanced\n",
    "\n",
    "**A comprehensive guide to using Aparsoft TTS for professional voice generation**\n",
    "\n",
    "---\n",
    "\n",
    "## Table of Contents\n",
    "\n",
    "1. [Setup and Installation](#setup-and-installation)\n",
    "2. [Basic Concepts](#basic-concepts)\n",
    "3. [Simple Speech Generation](#simple-speech-generation)\n",
    "4. [Exploring Voices](#exploring-voices)\n",
    "5. [Audio Enhancement](#audio-enhancement)\n",
    "6. [Batch Processing](#batch-processing)\n",
    "7. [Script Processing for Videos](#script-processing-for-videos)\n",
    "8. [Configuration Management](#configuration-management)\n",
    "9. [Command-Line Interface](#command-line-interface)\n",
    "10. [Advanced Audio Processing](#advanced-audio-processing)\n",
    "11. [MCP Server Integration](#mcp-server-integration)\n",
    "12. [Production Deployment](#production-deployment)\n",
    "13. [Testing and Debugging](#testing-and-debugging)\n",
    "14. [Performance Optimization](#performance-optimization)\n",
    "\n",
    "---\n",
    "\n",
    "## Setup and Installation\n",
    "\n",
    "### System Dependencies\n",
    "\n",
    "Before starting, ensure you have the required system packages installed:\n",
    "\n",
    "**Ubuntu/Debian:**\n"
   ]
  },
  {
   "cell_type": "code",
   "execution_count": null,
   "id": "60318bc7",
   "metadata": {},
   "outputs": [],
   "source": [
    "%%bash\n",
    "%%bash\n",
    "sudo apt-get update\n",
    "sudo apt-get install espeak-ng ffmpeg libsndfile1"
   ]
  },
  {
   "cell_type": "markdown",
   "id": "a62c2504",
   "metadata": {},
   "source": [
    "**macOS:**\n"
   ]
  },
  {
   "cell_type": "code",
   "execution_count": null,
   "id": "2f56c3ab",
   "metadata": {},
   "outputs": [],
   "source": [
    "%%bash\n",
    "%%bash\n",
    "brew install espeak ffmpeg"
   ]
  },
  {
   "cell_type": "markdown",
   "id": "5ee24d1b",
   "metadata": {},
   "source": [
    "**Windows:**\n",
    "- Download espeak from http://espeak.sourceforge.net/\n",
    "- Download ffmpeg from https://ffmpeg.org/download.html\n",
    "- Add both to system PATH\n",
    "\n",
    "### Python Package Installation\n"
   ]
  },
  {
   "cell_type": "code",
   "execution_count": null,
   "id": "eabc3c93",
   "metadata": {},
   "outputs": [],
   "source": [
    "%%bash\n",
    "%%bash\n",
    "# Create virtual environment\n",
    "python -m venv venv\n",
    "\n",
    "# Activate virtual environment\n",
    "# On Linux/Mac:\n",
    "source venv/bin/activate\n",
    "# On Windows:\n",
    "# venv\\Scripts\\activate\n",
    "\n",
    "# Install package with all features\n",
    "pip install -e \".[mcp,cli,dev]\""
   ]
  },
  {
   "cell_type": "markdown",
   "id": "5984bdcd",
   "metadata": {},
   "source": [
    "### Verify Installation\n"
   ]
  },
  {
   "cell_type": "code",
   "execution_count": 31,
   "id": "18c5b0fa",
   "metadata": {},
   "outputs": [
    {
     "name": "stdout",
     "output_type": "stream",
     "text": [
      "✅ Aparsoft TTS imported successfully!\n",
      "Available male voices: ['am_michael', 'bm_george', 'am_adam']\n",
      "Available female voices: ['af_bella', 'af_heart', 'bf_emma']\n"
     ]
    }
   ],
   "source": [
    "# Test core imports\n",
    "from aparsoft_tts import TTSEngine, TTSConfig\n",
    "from aparsoft_tts import ALL_VOICES, MALE_VOICES, FEMALE_VOICES\n",
    "\n",
    "print(\"✅ Aparsoft TTS imported successfully!\")\n",
    "print(f\"Available male voices: {MALE_VOICES}\")\n",
    "print(f\"Available female voices: {FEMALE_VOICES}\")"
   ]
  },
  {
   "cell_type": "markdown",
   "id": "b058138f",
   "metadata": {},
   "source": [
    "---\n",
    "\n",
    "## Basic Concepts\n",
    "\n",
    "### Architecture Overview\n",
    "\n",
    "Aparsoft TTS is built with a modular architecture:\n",
    "\n",
    "- **Core Engine** (`core/engine.py`): Main TTS functionality using Kokoro model\n",
    "- **Configuration** (`config.py`): Pydantic-based settings management\n",
    "- **Audio Utilities** (`utils/audio.py`): Audio processing functions\n",
    "- **Logging** (`utils/logging.py`): Structured logging with structlog\n",
    "- **Exceptions** (`utils/exceptions.py`): Custom exception hierarchy\n",
    "- **CLI** (`cli.py`): Command-line interface with Typer\n",
    "- **MCP Server** (`mcp_server.py`): Model Context Protocol server\n",
    "\n",
    "### Key Classes\n",
    "\n",
    "**TTSEngine**: Main class for text-to-speech generation\n",
    "- Methods: `generate()`, `generate_stream()`, `batch_generate()`, `process_script()`\n",
    "- Handles model loading, audio generation, and enhancement\n",
    "\n",
    "**TTSConfig**: Configuration management\n",
    "- Uses Pydantic for validation\n",
    "- Supports environment variables\n",
    "- Type-safe settings\n",
    "\n",
    "---\n",
    "\n",
    "## Simple Speech Generation\n",
    "\n",
    "### Creating a TTS Engine Instance\n"
   ]
  },
  {
   "cell_type": "code",
   "execution_count": 32,
   "id": "611e2b49",
   "metadata": {},
   "outputs": [
    {
     "name": "stdout",
     "output_type": "stream",
     "text": [
      "\u001b[2m2025-10-04T19:23:21.827547Z\u001b[0m [\u001b[32m\u001b[1minfo     \u001b[0m] \u001b[1minitializing_tts_engine       \u001b[0m [\u001b[0m\u001b[1m\u001b[34mTTSEngine\u001b[0m]\u001b[0m \u001b[36mfilename\u001b[0m=\u001b[35mengine.py\u001b[0m \u001b[36mfunc_name\u001b[0m=\u001b[35m__init__\u001b[0m \u001b[36mlang_code\u001b[0m=\u001b[35ma\u001b[0m \u001b[36mlineno\u001b[0m=\u001b[35m67\u001b[0m \u001b[36mmodule\u001b[0m=\u001b[35mengine\u001b[0m \u001b[36mpathname\u001b[0m=\u001b[35m/home/ram/projects/youtube-creator/aparsoft_tts/core/engine.py\u001b[0m \u001b[36mprocess\u001b[0m=\u001b[35m379950\u001b[0m \u001b[36mprocess_name\u001b[0m=\u001b[35mMainProcess\u001b[0m \u001b[36mservice\u001b[0m=\u001b[35maparsoft-tts\u001b[0m \u001b[36mthread\u001b[0m=\u001b[35m130021081956480\u001b[0m \u001b[36mthread_name\u001b[0m=\u001b[35mMainThread\u001b[0m \u001b[36mversion\u001b[0m=\u001b[35m1.0.0\u001b[0m \u001b[36mvoice\u001b[0m=\u001b[35mam_michael\u001b[0m\n",
      "WARNING: Defaulting repo_id to hexgrad/Kokoro-82M. Pass repo_id='hexgrad/Kokoro-82M' to suppress this warning.\n"
     ]
    },
    {
     "name": "stderr",
     "output_type": "stream",
     "text": [
      "/home/ram/projects/youtube-creator/venv/lib/python3.12/site-packages/torch/nn/modules/rnn.py:123: UserWarning: dropout option adds dropout after all but last recurrent layer, so non-zero dropout expects num_layers greater than 1, but got dropout=0.2 and num_layers=1\n",
      "  warnings.warn(\n",
      "/home/ram/projects/youtube-creator/venv/lib/python3.12/site-packages/torch/nn/utils/weight_norm.py:144: FutureWarning: `torch.nn.utils.weight_norm` is deprecated in favor of `torch.nn.utils.parametrizations.weight_norm`.\n",
      "  WeightNorm.apply(module, name, dim)\n"
     ]
    },
    {
     "name": "stdout",
     "output_type": "stream",
     "text": [
      "\u001b[2m2025-10-04T19:23:24.851207Z\u001b[0m [\u001b[32m\u001b[1minfo     \u001b[0m] \u001b[1mtts_engine_initialized        \u001b[0m [\u001b[0m\u001b[1m\u001b[34mTTSEngine\u001b[0m]\u001b[0m \u001b[36mfilename\u001b[0m=\u001b[35mengine.py\u001b[0m \u001b[36mfunc_name\u001b[0m=\u001b[35m__init__\u001b[0m \u001b[36mlineno\u001b[0m=\u001b[35m73\u001b[0m \u001b[36mmodule\u001b[0m=\u001b[35mengine\u001b[0m \u001b[36mpathname\u001b[0m=\u001b[35m/home/ram/projects/youtube-creator/aparsoft_tts/core/engine.py\u001b[0m \u001b[36mprocess\u001b[0m=\u001b[35m379950\u001b[0m \u001b[36mprocess_name\u001b[0m=\u001b[35mMainProcess\u001b[0m \u001b[36mservice\u001b[0m=\u001b[35maparsoft-tts\u001b[0m \u001b[36mthread\u001b[0m=\u001b[35m130021081956480\u001b[0m \u001b[36mthread_name\u001b[0m=\u001b[35mMainThread\u001b[0m \u001b[36mversion\u001b[0m=\u001b[35m1.0.0\u001b[0m\n"
     ]
    }
   ],
   "source": [
    "from aparsoft_tts import TTSEngine\n",
    "\n",
    "# Initialize with default settings\n",
    "engine = TTSEngine()\n",
    "\n",
    "# The engine is now ready to generate speech\n",
    "# Default voice: am_michael (American male)\n",
    "# Default speed: 1.0\n",
    "# Default enhancement: enabled"
   ]
  },
  {
   "cell_type": "markdown",
   "id": "aaaa4bcf",
   "metadata": {},
   "source": [
    "### Generate Your First Audio\n"
   ]
  },
  {
   "cell_type": "code",
   "execution_count": null,
   "id": "45feb4ed",
   "metadata": {},
   "outputs": [],
   "source": [
    "# Generate speech and save to file\n",
    "output_path = engine.generate(\n",
    "    text=\"Welcome to Aparsoft TTS tutorial\",\n",
    "    output_path=\"output/tutorial_intro.wav\"\n",
    ")\n",
    "\n",
    "print(f\"Audio saved to: {output_path}\")"
   ]
  },
  {
   "cell_type": "markdown",
   "id": "d54f720a",
   "metadata": {},
   "source": [
    "### Generate Audio as NumPy Array\n"
   ]
  },
  {
   "cell_type": "code",
   "execution_count": null,
   "id": "f143ea41",
   "metadata": {},
   "outputs": [],
   "source": [
    "import numpy as np\n",
    "\n",
    "# Generate without saving (returns numpy array)\n",
    "audio_array = engine.generate(\n",
    "    text=\"This returns an audio array instead of saving to file\"\n",
    ")\n",
    "\n",
    "print(f\"Audio type: {type(audio_array)}\")\n",
    "print(f\"Audio shape: {audio_array.shape}\")\n",
    "print(f\"Audio dtype: {audio_array.dtype}\")\n",
    "print(f\"Duration: {len(audio_array) / 24000:.2f} seconds\")"
   ]
  },
  {
   "cell_type": "markdown",
   "id": "44beede5",
   "metadata": {},
   "source": [
    "### Customize Generation Parameters\n"
   ]
  },
  {
   "cell_type": "code",
   "execution_count": null,
   "id": "0e9071ef",
   "metadata": {},
   "outputs": [],
   "source": [
    "# Generate with custom parameters\n",
    "custom_output = engine.generate(\n",
    "    text=\"This speech is customized with different parameters\",\n",
    "    output_path=\"output/custom.wav\",\n",
    "    voice=\"bm_george\",      # British male voice\n",
    "    speed=1.2,              # 20% faster\n",
    "    enhance=True            # Enable audio enhancement\n",
    ")\n",
    "\n",
    "print(f\"Custom audio generated: {custom_output}\")"
   ]
  },
  {
   "cell_type": "markdown",
   "id": "23c4ecc3",
   "metadata": {},
   "source": [
    "---\n",
    "\n",
    "## Exploring Voices\n",
    "\n",
    "### List All Available Voices\n"
   ]
  },
  {
   "cell_type": "code",
   "execution_count": null,
   "id": "17e431f9",
   "metadata": {},
   "outputs": [],
   "source": [
    "from aparsoft_tts import TTSEngine, ALL_VOICES\n",
    "\n",
    "# Static method to list voices\n",
    "voices = TTSEngine.list_voices()\n",
    "\n",
    "print(\"=== Available Voices ===\\n\")\n",
    "\n",
    "print(\"Male Voices:\")\n",
    "for voice in voices['male']:\n",
    "    print(f\"  - {voice}\")\n",
    "\n",
    "print(\"\\nFemale Voices:\")\n",
    "for voice in voices['female']:\n",
    "    print(f\"  - {voice}\")\n",
    "\n",
    "print(f\"\\nTotal voices: {len(ALL_VOICES)}\")"
   ]
  },
  {
   "cell_type": "markdown",
   "id": "57ec3e38",
   "metadata": {},
   "source": [
    "### Voice Comparison Test\n"
   ]
  },
  {
   "cell_type": "code",
   "execution_count": null,
   "id": "e6f7bfd2",
   "metadata": {},
   "outputs": [],
   "source": [
    "# Test text for comparison\n",
    "test_text = \"Hello and welcome, this is a voice comparison test for Aparsoft TTS.\"\n",
    "\n",
    "# Generate audio with each male voice\n",
    "male_voices = [\"am_michael\", \"bm_george\", \"am_adam\"]\n",
    "\n",
    "for voice in male_voices:\n",
    "    output_file = f\"output/voice_test_{voice}.wav\"\n",
    "    engine.generate(\n",
    "        text=test_text,\n",
    "        output_path=output_file,\n",
    "        voice=voice\n",
    "    )\n",
    "    print(f\"✅ Generated: {output_file}\")"
   ]
  },
  {
   "cell_type": "markdown",
   "id": "93707100",
   "metadata": {},
   "source": [
    "### Voice Characteristics\n"
   ]
  },
  {
   "cell_type": "code",
   "execution_count": null,
   "id": "0d598f08",
   "metadata": {},
   "outputs": [],
   "source": [
    "# Define voice characteristics\n",
    "voice_info = {\n",
    "    \"am_michael\": {\n",
    "        \"gender\": \"male\",\n",
    "        \"accent\": \"American\",\n",
    "        \"tone\": \"Professional, clear\",\n",
    "        \"use_case\": \"Tutorials, corporate content\"\n",
    "    },\n",
    "    \"bm_george\": {\n",
    "        \"gender\": \"male\",\n",
    "        \"accent\": \"British\",\n",
    "        \"tone\": \"Formal, authoritative\",\n",
    "        \"use_case\": \"Documentaries, formal presentations\"\n",
    "    },\n",
    "    \"am_adam\": {\n",
    "        \"gender\": \"male\",\n",
    "        \"accent\": \"American\",\n",
    "        \"tone\": \"Younger, casual\",\n",
    "        \"use_case\": \"Entertainment, vlogs\"\n",
    "    },\n",
    "    \"af_bella\": {\n",
    "        \"gender\": \"female\",\n",
    "        \"accent\": \"American\",\n",
    "        \"tone\": \"Warm, friendly\",\n",
    "        \"use_case\": \"Storytelling, guided tours\"\n",
    "    },\n",
    "    \"af_heart\": {\n",
    "        \"gender\": \"female\",\n",
    "        \"accent\": \"American\",\n",
    "        \"tone\": \"Expressive, energetic\",\n",
    "        \"use_case\": \"Advertising, promotional content\"\n",
    "    },\n",
    "    \"bf_emma\": {\n",
    "        \"gender\": \"female\",\n",
    "        \"accent\": \"British\",\n",
    "        \"tone\": \"Professional, elegant\",\n",
    "        \"use_case\": \"Educational content, narration\"\n",
    "    }\n",
    "}\n",
    "\n",
    "# Display voice information\n",
    "for voice, info in voice_info.items():\n",
    "    print(f\"\\n{voice}:\")\n",
    "    for key, value in info.items():\n",
    "        print(f\"  {key}: {value}\")"
   ]
  },
  {
   "cell_type": "markdown",
   "id": "62a1f03e",
   "metadata": {},
   "source": [
    "---\n",
    "\n",
    "## Audio Enhancement\n",
    "\n",
    "### Understanding Audio Enhancement\n",
    "\n",
    "Audio enhancement in Aparsoft TTS includes:\n",
    "1. **Normalization**: Adjusts volume to consistent level\n",
    "2. **Silence Trimming**: Removes quiet sections from start/end\n",
    "3. **Noise Reduction**: Applies spectral gating to reduce background noise\n",
    "4. **Fade In/Out**: Prevents clicks and pops at audio boundaries\n",
    "\n",
    "### Enhanced vs Non-Enhanced Comparison\n"
   ]
  },
  {
   "cell_type": "code",
   "execution_count": null,
   "id": "2752acba",
   "metadata": {},
   "outputs": [],
   "source": [
    "# Generate without enhancement\n",
    "audio_raw = engine.generate(\n",
    "    text=\"This audio has no enhancement applied\",\n",
    "    output_path=\"output/no_enhancement.wav\",\n",
    "    enhance=False\n",
    ")\n",
    "\n",
    "# Generate with enhancement (default)\n",
    "audio_enhanced = engine.generate(\n",
    "    text=\"This audio has full enhancement applied\",\n",
    "    output_path=\"output/with_enhancement.wav\",\n",
    "    enhance=True\n",
    ")\n",
    "\n",
    "print(\"Generated both versions for comparison\")"
   ]
  },
  {
   "cell_type": "markdown",
   "id": "b559a0e8",
   "metadata": {},
   "source": [
    "### Manual Audio Enhancement\n"
   ]
  },
  {
   "cell_type": "code",
   "execution_count": null,
   "id": "ecf7c055",
   "metadata": {},
   "outputs": [],
   "source": [
    "from aparsoft_tts.utils.audio import enhance_audio\n",
    "import numpy as np\n",
    "\n",
    "# Generate raw audio\n",
    "raw_audio = engine.generate(\n",
    "    text=\"Testing manual audio enhancement\"\n",
    ")\n",
    "\n",
    "# Apply custom enhancement\n",
    "enhanced = enhance_audio(\n",
    "    raw_audio,\n",
    "    sample_rate=24000,\n",
    "    normalize=True,\n",
    "    trim_silence=True,\n",
    "    trim_db=25.0,           # More aggressive trimming\n",
    "    add_fade=True,\n",
    "    fade_duration=0.2,      # Longer fade (200ms)\n",
    "    noise_reduction=True\n",
    ")\n",
    "\n",
    "print(f\"Raw audio length: {len(raw_audio)} samples\")\n",
    "print(f\"Enhanced audio length: {len(enhanced)} samples\")\n",
    "print(f\"Reduction: {len(raw_audio) - len(enhanced)} samples\")"
   ]
  },
  {
   "cell_type": "markdown",
   "id": "56ea09b7",
   "metadata": {},
   "source": [
    "### Custom Audio Processing\n"
   ]
  },
  {
   "cell_type": "code",
   "execution_count": null,
   "id": "02ef1c97",
   "metadata": {},
   "outputs": [],
   "source": [
    "from aparsoft_tts.utils.audio import save_audio, get_audio_duration\n",
    "import librosa\n",
    "import numpy as np\n",
    "\n",
    "# Generate audio\n",
    "audio = engine.generate(\"Testing custom audio processing\")\n",
    "\n",
    "# Apply custom processing with librosa\n",
    "# Example: Pitch shift\n",
    "audio_shifted = librosa.effects.pitch_shift(\n",
    "    audio,\n",
    "    sr=24000,\n",
    "    n_steps=2  # Shift up by 2 semitones\n",
    ")\n",
    "\n",
    "# Save custom processed audio\n",
    "save_audio(audio_shifted, \"output/pitch_shifted.wav\", sample_rate=24000)\n",
    "\n",
    "# Get duration\n",
    "duration = get_audio_duration(audio_shifted, sample_rate=24000)\n",
    "print(f\"Duration: {duration:.2f} seconds\")"
   ]
  },
  {
   "cell_type": "markdown",
   "id": "2c920399",
   "metadata": {},
   "source": [
    "---\n",
    "\n",
    "## Batch Processing\n",
    "\n",
    "### Basic Batch Generation\n"
   ]
  },
  {
   "cell_type": "code",
   "execution_count": null,
   "id": "dbc5b4ea",
   "metadata": {},
   "outputs": [],
   "source": [
    "from pathlib import Path\n",
    "\n",
    "# Create output directory\n",
    "output_dir = Path(\"output/batch_example\")\n",
    "output_dir.mkdir(parents=True, exist_ok=True)\n",
    "\n",
    "# List of texts to generate\n",
    "texts = [\n",
    "    \"Welcome to our tutorial series\",\n",
    "    \"In this episode, we will cover text-to-speech\",\n",
    "    \"Let's explore the features of Aparsoft TTS\",\n",
    "    \"Don't forget to subscribe for more content\"\n",
    "]\n",
    "\n",
    "# Batch generate\n",
    "paths = engine.batch_generate(\n",
    "    texts=texts,\n",
    "    output_dir=output_dir,\n",
    "    voice=\"am_michael\",\n",
    "    speed=1.0\n",
    ")\n",
    "\n",
    "print(f\"Generated {len(paths)} files:\")\n",
    "for path in paths:\n",
    "    print(f\"  - {path}\")"
   ]
  },
  {
   "cell_type": "markdown",
   "id": "d34a0143",
   "metadata": {},
   "source": [
    "### Batch with Different Voices\n"
   ]
  },
  {
   "cell_type": "code",
   "execution_count": null,
   "id": "8bc33e8e",
   "metadata": {},
   "outputs": [],
   "source": [
    "# Define segments with specific voices\n",
    "segments = [\n",
    "    (\"Welcome to the podcast\", \"am_michael\"),\n",
    "    (\"Today's guest is here\", \"af_bella\"),\n",
    "    (\"Thanks for joining us\", \"am_michael\"),\n",
    "    (\"Happy to be here\", \"af_bella\")\n",
    "]\n",
    "\n",
    "# Generate each with its specified voice\n",
    "for i, (text, voice) in enumerate(segments):\n",
    "    output = f\"output/podcast_segment_{i+1:02d}_{voice}.wav\"\n",
    "    engine.generate(text, output, voice=voice)\n",
    "    print(f\"✅ Generated: {output}\")"
   ]
  },
  {
   "cell_type": "markdown",
   "id": "9ab8554c",
   "metadata": {},
   "source": [
    "### Batch with Speed Variations\n"
   ]
  },
  {
   "cell_type": "code",
   "execution_count": null,
   "id": "238fe0bf",
   "metadata": {},
   "outputs": [],
   "source": [
    "# Generate the same text at different speeds\n",
    "base_text = \"Testing different speech speeds for comparison\"\n",
    "\n",
    "speeds = [0.8, 0.9, 1.0, 1.1, 1.2, 1.3]\n",
    "\n",
    "for speed in speeds:\n",
    "    output = f\"output/speed_test_{speed:.1f}x.wav\"\n",
    "    engine.generate(\n",
    "        text=base_text,\n",
    "        output_path=output,\n",
    "        speed=speed\n",
    "    )\n",
    "    print(f\"Generated at {speed}x speed: {output}\")"
   ]
  },
  {
   "cell_type": "markdown",
   "id": "9442f7ab",
   "metadata": {},
   "source": [
    "---\n",
    "\n",
    "## Script Processing for Videos\n",
    "\n",
    "### Creating a Video Script File\n"
   ]
  },
  {
   "cell_type": "code",
   "execution_count": null,
   "id": "61089cc4",
   "metadata": {},
   "outputs": [],
   "source": [
    "# Define a complete video script\n",
    "video_script = \"\"\"\n",
    "Hi everyone! Welcome back to my channel.\n",
    "Today we're going to explore an amazing open-source text-to-speech system.\n",
    "This system uses state-of-the-art AI models to generate professional voiceovers.\n",
    "Let me show you how it works with some live examples.\n",
    "First, we'll look at the basic features and capabilities.\n",
    "Then we'll dive into advanced usage and customization options.\n",
    "If you find this useful, please like and subscribe for more content.\n",
    "Thanks for watching! See you in the next video.\n",
    "\"\"\"\n",
    "\n",
    "# Save script to file\n",
    "script_path = Path(\"output/video_script.txt\")\n",
    "script_path.write_text(video_script.strip())\n",
    "\n",
    "print(f\"Script saved to: {script_path}\")"
   ]
  },
  {
   "cell_type": "markdown",
   "id": "026f5ccf",
   "metadata": {},
   "source": [
    "### Process Complete Script\n"
   ]
  },
  {
   "cell_type": "code",
   "execution_count": null,
   "id": "d636a133",
   "metadata": {},
   "outputs": [],
   "source": [
    "# Process the script with automatic paragraph detection\n",
    "complete_voiceover = engine.process_script(\n",
    "    script_path=script_path,\n",
    "    output_path=\"output/complete_voiceover.wav\",\n",
    "    gap_duration=1.2,  # 1.2 seconds gap between paragraphs\n",
    "    voice=\"am_michael\",\n",
    "    speed=1.0\n",
    ")\n",
    "\n",
    "print(f\"Complete voiceover generated: {complete_voiceover}\")"
   ]
  },
  {
   "cell_type": "markdown",
   "id": "fb2c23b6",
   "metadata": {},
   "source": [
    "### Script Processing with Custom Gaps\n"
   ]
  },
  {
   "cell_type": "code",
   "execution_count": null,
   "id": "31b88d2c",
   "metadata": {},
   "outputs": [],
   "source": [
    "# Generate versions with different gap durations\n",
    "gap_durations = [0.3, 0.5, 0.7, 1.0]\n",
    "\n",
    "for gap in gap_durations:\n",
    "    output = f\"output/voiceover_gap_{gap:.1f}s.wav\"\n",
    "    engine.process_script(\n",
    "        script_path=script_path,\n",
    "        output_path=output,\n",
    "        gap_duration=gap,\n",
    "        voice=\"am_michael\",\n",
    "    )\n",
    "    print(f\"Generated with {gap}s gaps: {output}\")"
   ]
  },
  {
   "cell_type": "markdown",
   "id": "46b92d27",
   "metadata": {},
   "source": [
    "### Advanced Script Processing\n"
   ]
  },
  {
   "cell_type": "code",
   "execution_count": null,
   "id": "412cb942",
   "metadata": {},
   "outputs": [],
   "source": [
    "from aparsoft_tts.utils.audio import combine_audio_segments, save_audio\n",
    "from pathlib import Path\n",
    "\n",
    "# Define script sections with metadata\n",
    "script_sections = [\n",
    "    {\n",
    "        \"name\": \"intro\",\n",
    "        \"text\": \"Welcome to this advanced tutorial on text-to-speech.\",\n",
    "        \"voice\": \"bm_george\",\n",
    "        \"speed\": 1.0\n",
    "    },\n",
    "    {\n",
    "        \"name\": \"main_content\",\n",
    "        \"text\": \"Now let's explore the advanced features of the system.\",\n",
    "        \"voice\": \"bm_george\",\n",
    "        \"speed\": 1.0\n",
    "    },\n",
    "    {\n",
    "        \"name\": \"guest_quote\",\n",
    "        \"text\": \"This is an amazing system that I highly recommend.\",\n",
    "        \"voice\": \"af_bella\",  # Different voice for guest\n",
    "        \"speed\": 0.95\n",
    "    },\n",
    "    {\n",
    "        \"name\": \"outro\",\n",
    "        \"text\": \"Thanks for watching this tutorial. See you next time! Bye.\",\n",
    "        \"voice\": \"bm_george\",\n",
    "        \"speed\": 1.0\n",
    "    }    \n",
    "]\n",
    "\n",
    "# Generate each section\n",
    "audio_segments = []\n",
    "\n",
    "for section in script_sections:\n",
    "    print(f\"Generating: {section['name']}\")\n",
    "\n",
    "    audio = engine.generate(\n",
    "        text=section['text'],\n",
    "        voice=section['voice'],\n",
    "        speed=section['speed']\n",
    "    )\n",
    "\n",
    "    audio_segments.append(audio)\n",
    "\n",
    "# Combine with custom gap\n",
    "combined = combine_audio_segments(\n",
    "    audio_segments,\n",
    "    sample_rate=24000,\n",
    "    gap_duration=0.6\n",
    ")\n",
    "\n",
    "# Save combined audio\n",
    "save_audio(combined, \"output/advanced_script.wav\", sample_rate=24000)\n",
    "print(\"Advanced script processing complete!\")"
   ]
  },
  {
   "cell_type": "markdown",
   "id": "7316f6dd",
   "metadata": {},
   "source": [
    "---\n",
    "\n",
    "## Configuration Management\n",
    "\n",
    "### Using TTSConfig for Custom Settings\n"
   ]
  },
  {
   "cell_type": "code",
   "execution_count": null,
   "id": "6868cff7",
   "metadata": {},
   "outputs": [],
   "source": [
    "from aparsoft_tts import TTSConfig, TTSEngine\n",
    "\n",
    "# Create custom configuration\n",
    "config = TTSConfig(\n",
    "    voice=\"bm_george\",           # British male voice\n",
    "    lang_code=\"b\",               # British English\n",
    "    speed=0.95,                  # Slightly slower\n",
    "    sample_rate=24000,           # Standard sample rate\n",
    "    enhance_audio=True,          # Enable enhancement\n",
    "    trim_silence=True,           # Trim silence\n",
    "    trim_db=22.0,                # Trim threshold\n",
    "    fade_duration=0.15,          # Fade duration (150ms)\n",
    "    output_format=\"wav\",         # Output format\n",
    "    output_dir=Path(\"output/custom_config\")\n",
    ")\n",
    "\n",
    "# Create engine with custom config\n",
    "custom_engine = TTSEngine(config=config)\n",
    "\n",
    "# All generations now use these settings\n",
    "custom_engine.generate(\n",
    "    text=\"This uses the custom configuration\",\n",
    "    output_path=\"output/custom_config/test.wav\"\n",
    ")\n",
    "\n",
    "print(\"Generated with custom configuration\")"
   ]
  },
  {
   "cell_type": "markdown",
   "id": "6fecb9f1",
   "metadata": {},
   "source": [
    "### Environment-Based Configuration\n"
   ]
  },
  {
   "cell_type": "code",
   "execution_count": null,
   "id": "f81a4d3c",
   "metadata": {},
   "outputs": [],
   "source": [
    "# Configuration can also be set via environment variables\n",
    "# Example .env file content:\n",
    "\"\"\"\n",
    "TTS_VOICE=am_michael\n",
    "TTS_SPEED=1.1\n",
    "TTS_ENHANCE_AUDIO=true\n",
    "TTS_TRIM_DB=20.0\n",
    "LOG_LEVEL=INFO\n",
    "LOG_FORMAT=json\n",
    "\"\"\"\n",
    "\n",
    "# Load from environment\n",
    "from aparsoft_tts.config import get_config\n",
    "\n",
    "config = get_config()\n",
    "print(f\"TTS Voice: {config.tts.voice}\")\n",
    "print(f\"TTS Speed: {config.tts.speed}\")\n",
    "print(f\"Enhance Audio: {config.tts.enhance_audio}\")\n",
    "print(f\"Log Level: {config.logging.level}\")"
   ]
  },
  {
   "cell_type": "markdown",
   "id": "c88bc55a",
   "metadata": {},
   "source": [
    "### Configuration Hierarchy\n"
   ]
  },
  {
   "cell_type": "code",
   "execution_count": null,
   "id": "5b78181d",
   "metadata": {},
   "outputs": [],
   "source": [
    "from aparsoft_tts import TTSConfig, MCPConfig, LoggingConfig, Config\n",
    "\n",
    "# Create comprehensive configuration\n",
    "tts_config = TTSConfig(\n",
    "    voice=\"am_michael\",\n",
    "    speed=1.0,\n",
    "    enhance_audio=True\n",
    ")\n",
    "\n",
    "mcp_config = MCPConfig(\n",
    "    server_name=\"aparsoft-tts-production\",\n",
    "    transport=\"stdio\",\n",
    "    enable_rate_limiting=True,\n",
    "    rate_limit_calls=100\n",
    ")\n",
    "\n",
    "logging_config = LoggingConfig(\n",
    "    level=\"INFO\",\n",
    "    format=\"json\",\n",
    "    output=\"file\",\n",
    "    log_file=Path(\"logs/production.log\")\n",
    ")\n",
    "\n",
    "# Combine into main config\n",
    "full_config = Config(\n",
    "    environment=\"production\",\n",
    "    debug=False,\n",
    "    tts=tts_config,\n",
    "    mcp=mcp_config,\n",
    "    logging=logging_config\n",
    ")\n",
    "\n",
    "print(f\"Environment: {full_config.environment}\")\n",
    "print(f\"TTS Voice: {full_config.tts.voice}\")\n",
    "print(f\"MCP Server: {full_config.mcp.server_name}\")\n",
    "print(f\"Log Level: {full_config.logging.level}\")"
   ]
  },
  {
   "cell_type": "markdown",
   "id": "428b53f2",
   "metadata": {},
   "source": [
    "---\n",
    "\n",
    "## Command-Line Interface\n",
    "\n",
    "### Basic CLI Usage\n",
    "\n",
    "The CLI provides quick access to all functionality without writing Python code.\n"
   ]
  },
  {
   "cell_type": "code",
   "execution_count": null,
   "id": "10f15dc7",
   "metadata": {},
   "outputs": [],
   "source": [
    "%%bash\n",
    "%%bash\n",
    "# Generate simple audio\n",
    "aparsoft-tts generate \"Hello world\" -o output/hello.wav\n",
    "\n",
    "# Use different voice\n",
    "aparsoft-tts generate \"British voice test\" -v bm_george -o output/british.wav\n",
    "\n",
    "# Adjust speed\n",
    "aparsoft-tts generate \"Fast speech\" -s 1.3 -o output/fast.wav\n",
    "\n",
    "# Disable enhancement\n",
    "aparsoft-tts generate \"No enhancement\" --no-enhance -o output/raw.wav"
   ]
  },
  {
   "cell_type": "markdown",
   "id": "7d3af791",
   "metadata": {},
   "source": [
    "### CLI Batch Processing\n"
   ]
  },
  {
   "cell_type": "code",
   "execution_count": null,
   "id": "bc66d25e",
   "metadata": {},
   "outputs": [],
   "source": [
    "%%bash\n",
    "%%bash\n",
    "# Generate multiple files\n",
    "aparsoft-tts batch \"First segment\" \"Second segment\" \"Third segment\" -d output/cli_batch/\n",
    "\n",
    "# With custom voice and speed\n",
    "aparsoft-tts batch \"Hello\" \"World\" -v af_bella -s 0.9 -d output/female_voice/"
   ]
  },
  {
   "cell_type": "markdown",
   "id": "3fdd98f8",
   "metadata": {},
   "source": [
    "### CLI Script Processing\n"
   ]
  },
  {
   "cell_type": "code",
   "execution_count": null,
   "id": "85a9d271",
   "metadata": {},
   "outputs": [],
   "source": [
    "%%bash\n",
    "%%bash\n",
    "# Process a script file\n",
    "aparsoft-tts script output/video_script.txt -o output/cli_voiceover.wav\n",
    "\n",
    "# With custom settings\n",
    "aparsoft-tts script output/video_script.txt \\\n",
    "    -o output/custom_voiceover.wav \\\n",
    "    -v bm_george \\\n",
    "    -s 0.95 \\\n",
    "    -g 0.7"
   ]
  },
  {
   "cell_type": "markdown",
   "id": "00ace7a2",
   "metadata": {},
   "source": [
    "### List Available Voices\n"
   ]
  },
  {
   "cell_type": "code",
   "execution_count": null,
   "id": "d2bf1f07",
   "metadata": {},
   "outputs": [],
   "source": [
    "%%bash\n",
    "%%bash\n",
    "# Display voice information table\n",
    "aparsoft-tts voices"
   ]
  },
  {
   "cell_type": "markdown",
   "id": "8f5db68f",
   "metadata": {},
   "source": [
    "### Programmatic CLI Integration\n"
   ]
  },
  {
   "cell_type": "code",
   "execution_count": null,
   "id": "b2a161b7",
   "metadata": {},
   "outputs": [],
   "source": [
    "import subprocess\n",
    "\n",
    "# Call CLI from Python\n",
    "def generate_with_cli(text, output_file, voice=\"am_michael\", speed=1.0):\n",
    "    \"\"\"Use CLI for generation\"\"\"\n",
    "    cmd = [\n",
    "        \"aparsoft-tts\", \"generate\",\n",
    "        text,\n",
    "        \"-o\", output_file,\n",
    "        \"-v\", voice,\n",
    "        \"-s\", str(speed)\n",
    "    ]\n",
    "\n",
    "    result = subprocess.run(cmd, capture_output=True, text=True)\n",
    "\n",
    "    if result.returncode == 0:\n",
    "        print(f\"✅ CLI generation successful: {output_file}\")\n",
    "    else:\n",
    "        print(f\"❌ CLI error: {result.stderr}\")\n",
    "\n",
    "    return result.returncode == 0\n",
    "\n",
    "# Use the function\n",
    "generate_with_cli(\n",
    "    \"Testing CLI from Python\",\n",
    "    \"output/cli_from_python.wav\",\n",
    "    voice=\"am_adam\",\n",
    "    speed=1.1\n",
    ")"
   ]
  },
  {
   "cell_type": "markdown",
   "id": "16a8068c",
   "metadata": {},
   "source": [
    "---\n",
    "\n",
    "## Advanced Audio Processing\n",
    "\n",
    "### Streaming Generation\n",
    "\n",
    "Streaming allows processing audio chunks as they're generated, useful for real-time applications.\n"
   ]
  },
  {
   "cell_type": "code",
   "execution_count": null,
   "id": "bd07b694",
   "metadata": {},
   "outputs": [],
   "source": [
    "# Generate audio as a stream\n",
    "chunks = []\n",
    "\n",
    "for chunk in engine.generate_stream(\n",
    "    text=\"This is a longer text that will be streamed chunk by chunk to demonstrate real-time generation. Also, this shows how to handle streaming audio through aparsoft-tts applications.\",\n",
    "    voice=\"bm_george\",\n",
    "    speed=1.0\n",
    "):\n",
    "    chunks.append(chunk)\n",
    "    print(f\"Received chunk: {len(chunk)} samples\")\n",
    "\n",
    "# Combine chunks\n",
    "import numpy as np\n",
    "full_audio = np.concatenate(chunks)\n",
    "\n",
    "print(f\"\\nTotal chunks: {len(chunks)}\")\n",
    "print(f\"Total audio length: {len(full_audio)} samples\")\n",
    "print(f\"Duration: {len(full_audio) / 24000:.2f} seconds\")"
   ]
  },
  {
   "cell_type": "markdown",
   "id": "e987873f",
   "metadata": {},
   "source": [
    "### Audio Chunking for Processing\n"
   ]
  },
  {
   "cell_type": "code",
   "execution_count": null,
   "id": "789bb0a7",
   "metadata": {},
   "outputs": [],
   "source": [
    "from aparsoft_tts.utils.audio import chunk_audio\n",
    "\n",
    "# Generate long audio\n",
    "long_text = \" \".join([\"This is a test sentence.\"] * 20)\n",
    "audio = engine.generate(long_text)\n",
    "\n",
    "# Split into chunks for processing\n",
    "chunks = chunk_audio(\n",
    "    audio,\n",
    "    chunk_size=24000,  # 1 second chunks at 24kHz\n",
    "    overlap=2400       # 100ms overlap\n",
    ")\n",
    "\n",
    "print(f\"Original audio: {len(audio)} samples\")\n",
    "print(f\"Number of chunks: {len(chunks)}\")\n",
    "print(f\"Chunk sizes: {[len(c) for c in chunks]}\")\n",
    "\n",
    "# Process each chunk (example: apply effect)\n",
    "processed_chunks = []\n",
    "for i, chunk in enumerate(chunks):\n",
    "    # Apply some processing (example: simple amplification)\n",
    "    processed = chunk * 1.2\n",
    "    processed_chunks.append(processed)\n",
    "    print(f\"Processed chunk {i+1}/{len(chunks)}\")"
   ]
  },
  {
   "cell_type": "markdown",
   "id": "0ebbcce2",
   "metadata": {},
   "source": [
    "### Combining Audio Files\n"
   ]
  },
  {
   "cell_type": "code",
   "execution_count": null,
   "id": "6ed6ed07",
   "metadata": {},
   "outputs": [],
   "source": [
    "from aparsoft_tts.utils.audio import load_audio, combine_audio_segments, save_audio\n",
    "\n",
    "# Load multiple audio files\n",
    "audio_files = [\n",
    "    \"output/voice_test_am_michael.wav\",\n",
    "    \"output/voice_test_bm_george.wav\",\n",
    "    \"output/voice_test_am_adam.wav\"\n",
    "]\n",
    "\n",
    "# Load all files\n",
    "segments = []\n",
    "for file in audio_files:\n",
    "    audio, sr = load_audio(file, sample_rate=24000)\n",
    "    segments.append(audio)\n",
    "    print(f\"Loaded: {file} ({len(audio)} samples)\")\n",
    "\n",
    "# Combine with gaps\n",
    "combined = combine_audio_segments(\n",
    "    segments,\n",
    "    sample_rate=24000,\n",
    "    gap_duration=1.0  # 1 second gap\n",
    ")\n",
    "\n",
    "# Save combined file\n",
    "save_audio(combined, \"output/combined_voices.wav\", sample_rate=24000)\n",
    "print(f\"\\nCombined audio saved: {len(combined)} samples\")"
   ]
  },
  {
   "cell_type": "markdown",
   "id": "7ce1f9d3",
   "metadata": {},
   "source": [
    "### Advanced Signal Processing\n"
   ]
  },
  {
   "cell_type": "code",
   "execution_count": null,
   "id": "de124b1a",
   "metadata": {},
   "outputs": [],
   "source": [
    "import librosa\n",
    "import numpy as np\n",
    "from scipy import signal\n",
    "\n",
    "# Generate test audio\n",
    "audio = engine.generate(\"Testing advanced signal processing\")\n",
    "\n",
    "# 1. Spectral Analysis\n",
    "stft = librosa.stft(audio)\n",
    "magnitude = np.abs(stft)\n",
    "phase = np.angle(stft)\n",
    "\n",
    "print(f\"STFT shape: {stft.shape}\")\n",
    "print(f\"Magnitude range: {magnitude.min():.2f} to {magnitude.max():.2f}\")\n",
    "\n",
    "# 2. Apply High-Pass Filter (remove low-frequency rumble)\n",
    "sos = signal.butter(10, 100, 'hp', fs=24000, output='sos')\n",
    "filtered = signal.sosfilt(sos, audio)\n",
    "\n",
    "save_audio(filtered, \"output/high_pass_filtered.wav\", sample_rate=24000)\n",
    "\n",
    "# 3. Time Stretching (change duration without changing pitch)\n",
    "stretched = librosa.effects.time_stretch(audio, rate=1.2)  # 20% faster\n",
    "\n",
    "save_audio(stretched, \"output/time_stretched.wav\", sample_rate=24000)\n",
    "\n",
    "# 4. Pitch Shifting (change pitch without changing duration)\n",
    "shifted = librosa.effects.pitch_shift(audio, sr=24000, n_steps=3)\n",
    "\n",
    "save_audio(shifted, \"output/pitch_shifted.wav\", sample_rate=24000)\n",
    "\n",
    "print(\"Advanced processing complete!\")\n",
    "print(f\"Filtered audio saved: {len(filtered)} samples\")\n",
    "print(f\"Output files generated: high_pass_filtered.wav, time_stretched.wav, pitch_shifted.wav\")"
   ]
  },
  {
   "cell_type": "markdown",
   "id": "fcca551a",
   "metadata": {},
   "source": [
    "---\n",
    "\n",
    "## MCP Server Integration\n",
    "\n",
    "### Understanding MCP (Model Context Protocol)\n",
    "\n",
    "**What is MCP?**\n",
    "\n",
    "Model Context Protocol (MCP) is an open standard created by Anthropic that enables AI applications to securely connect to external tools and data sources. Think of it as \"USB-C for AI\" - a standardized way for LLMs like Claude to interact with external services.\n",
    "\n",
    "**MCP Architecture:**\n",
    "\n",
    "```\n",
    "┌─────────────────┐          ┌──────────────────┐\n",
    "│   MCP Client    │          │   MCP Server     │\n",
    "│  (Claude/Cursor)│ ◄──────► │  (Aparsoft TTS)  │\n",
    "└─────────────────┘          └──────────────────┘\n",
    "      Host App                   Tool Provider\n",
    "```\n",
    "\n",
    "**Key Concepts:**\n",
    "\n",
    "1. **Tools** (POST-like): Execute actions and produce side effects (e.g., generate audio)\n",
    "2. **Resources** (GET-like): Load information into LLM context\n",
    "3. **Prompts**: Reusable templates for LLM interactions\n",
    "4. **Transport**: Communication protocol (stdio, SSE, HTTP)\n",
    "\n",
    "**Why MCP for TTS?**\n",
    "\n",
    "- **No Context Switching**: Generate voiceovers without leaving Claude/Cursor\n",
    "- **Natural Language Interface**: Just describe what you want: \"Create voiceover using am_michael\"\n",
    "- **Automated Workflows**: AI agents can generate audio as part of larger tasks\n",
    "- **Standardized Integration**: Works with any MCP-compatible client\n",
    "\n",
    "### MCP Server Implementation\n",
    "\n",
    "**Architecture Overview:**\n",
    "\n",
    "Our MCP server is built with [FastMCP](https://github.com/jlowin/fastmcp), the Pythonic framework for MCP servers."
   ]
  },
  {
   "cell_type": "code",
   "execution_count": null,
   "id": "840864aa",
   "metadata": {},
   "outputs": [],
   "source": [
    "# Key Components of aparsoft_tts/mcp_server.py:\n",
    "\n",
    "# 1. FastMCP Server Instance\n",
    "from fastmcp import FastMCP\n",
    "mcp = FastMCP(\"aparsoft-tts\", version=\"1.0.0\")\n",
    "\n",
    "# 2. Request Validation Models (Pydantic)\n",
    "class GenerateSpeechRequest(BaseModel):\n",
    "    text: str = Field(..., min_length=1, max_length=10000)\n",
    "    voice: str = Field(default=\"am_michael\")\n",
    "    speed: float = Field(default=1.0, ge=0.5, le=2.0)\n",
    "    # ... more fields\n",
    "\n",
    "# 3. Tool Definition (Auto-schema from type hints)\n",
    "@mcp.tool()\n",
    "async def generate_speech(request: GenerateSpeechRequest) -> str:\n",
    "    \"\"\"Generate speech with automatic schema generation\"\"\"\n",
    "    output = tts_engine.generate(\n",
    "        text=request.text,\n",
    "        voice=request.voice,\n",
    "        speed=request.speed\n",
    "    )\n",
    "    return f\"✅ Speech generated: {output}\"\n",
    "\n",
    "# 4. Four Main Tools:\n",
    "# - generate_speech: Single audio generation\n",
    "# - list_voices: Voice catalog\n",
    "# - batch_generate: Multiple files\n",
    "# - process_script: Complete video scripts"
   ]
  },
  {
   "cell_type": "markdown",
   "id": "77eeb4d9",
   "metadata": {},
   "source": [
    "**Key Features:**\n",
    "\n",
    "1. ✅ **Type Safety**: Pydantic models validate all requests\n",
    "2. ✅ **Auto Schema**: FastMCP generates tool schemas from Python type hints\n",
    "3. ✅ **Structured Logging**: Correlation IDs track requests end-to-end\n",
    "4. ✅ **Error Handling**: Custom exceptions with helpful error messages\n",
    "5. ✅ **stdio Transport**: Standard input/output for local clients\n",
    "\n",
    "### Installation & Setup\n",
    "\n",
    "#### Step 1: Verify MCP Server is Installed"
   ]
  },
  {
   "cell_type": "code",
   "execution_count": null,
   "id": "cb9daafd",
   "metadata": {},
   "outputs": [],
   "source": [
    "%%bash\n",
    "# Ensure MCP dependencies are installed\n",
    "pip install -e \".[mcp]\"\n",
    "\n",
    "# Test the server can start\n",
    "python -m aparsoft_tts.mcp_server --help"
   ]
  },
  {
   "cell_type": "markdown",
   "id": "391c7d5d",
   "metadata": {
    "lines_to_next_cell": 0
   },
   "source": [
    "#### Step 2: Configure Claude Desktop\n",
    "\n",
    "**macOS:**"
   ]
  },
  {
   "cell_type": "code",
   "execution_count": null,
   "id": "b7d3c18b",
   "metadata": {},
   "outputs": [],
   "source": [
    "%%bash\n",
    "# Open config file\n",
    "open ~/Library/Application\\ Support/Claude/claude_desktop_config.json"
   ]
  },
  {
   "cell_type": "markdown",
   "id": "aa3b913e",
   "metadata": {
    "lines_to_next_cell": 0
   },
   "source": [
    "**Linux:**"
   ]
  },
  {
   "cell_type": "code",
   "execution_count": null,
   "id": "7aa5fecd",
   "metadata": {},
   "outputs": [],
   "source": [
    "%%bash\n",
    "# Open config file\n",
    "nano ~/.config/Claude/claude_desktop_config.json"
   ]
  },
  {
   "cell_type": "markdown",
   "id": "93f07ce5",
   "metadata": {
    "lines_to_next_cell": 0
   },
   "source": [
    "**Windows:**"
   ]
  },
  {
   "cell_type": "code",
   "execution_count": null,
   "id": "0180c5b8",
   "metadata": {},
   "outputs": [],
   "source": [
    "%%powershell\n",
    "# Open config file\n",
    "notepad %APPDATA%\\Claude\\claude_desktop_config.json"
   ]
  },
  {
   "cell_type": "markdown",
   "id": "b39e55df",
   "metadata": {},
   "source": [
    "**Configuration:**\n",
    "```json\n",
    "{\n",
    "  \"mcpServers\": {\n",
    "    \"aparsoft-tts\": {\n",
    "      \"command\": \"/absolute/path/to/your/venv/bin/python\",\n",
    "      \"args\": [\"-m\", \"aparsoft_tts.mcp_server\"],\n",
    "      \"env\": {\n",
    "        \"LOG_LEVEL\": \"INFO\"\n",
    "      }\n",
    "    }\n",
    "  }\n",
    "}\n",
    "```\n",
    "\n",
    "**Important Notes:**\n",
    "- Use **absolute paths** for the Python interpreter\n",
    "- Find your venv path: `which python` (Linux/Mac) or `where python` (Windows)\n",
    "- Example: `/home/ram/projects/youtube-creator/venv/bin/python`\n",
    "\n",
    "#### Step 3: Configure Cursor\n",
    "\n",
    "**Location:** `~/.cursor/mcp.json` (create if doesn't exist)\n",
    "\n",
    "```json\n",
    "{\n",
    "  \"mcpServers\": {\n",
    "    \"aparsoft-tts\": {\n",
    "      \"command\": \"/absolute/path/to/venv/bin/python\",\n",
    "      \"args\": [\"-m\", \"aparsoft_tts.mcp_server\"]\n",
    "    }\n",
    "  }\n",
    "}\n",
    "```\n",
    "\n",
    "**Cursor-Specific Setup:**\n",
    "1. Open Cursor Settings → Tools & Integrations → MCP Servers\n",
    "2. Or manually edit `~/.cursor/mcp.json`\n",
    "3. Restart Cursor completely for changes to take effect\n",
    "\n",
    "#### Step 4: Restart Your Client"
   ]
  },
  {
   "cell_type": "code",
   "execution_count": null,
   "id": "3b7b0097",
   "metadata": {},
   "outputs": [],
   "source": [
    "%%bash\n",
    "# Claude Desktop: Command/Ctrl + R or quit and reopen\n",
    "# Cursor: Completely close and restart"
   ]
  },
  {
   "cell_type": "markdown",
   "id": "3be8e207",
   "metadata": {},
   "source": [
    "### Using MCP Server with Claude Desktop\n",
    "\n",
    "**Example Prompts:**\n",
    "\n",
    "```\n",
    "# Basic generation\n",
    "\"Generate speech for 'Welcome to our channel' using am_michael voice and save as intro.wav\"\n",
    "\n",
    "# Voice selection\n",
    "\"List all available TTS voices\"\n",
    "\n",
    "# Batch processing\n",
    "\"Generate three audio files: 'Welcome', 'Main content', and 'Thanks for watching' using af_bella voice\"\n",
    "\n",
    "# Script processing\n",
    "\"Process the video_script.txt file and create a complete voiceover with 0.8 second gaps between paragraphs\"\n",
    "\n",
    "# Custom parameters\n",
    "\"Generate 'This is a test' at 1.3x speed with bm_george voice and enhanced audio\"\n",
    "```\n",
    "\n",
    "**Claude Desktop Workflow:**\n",
    "\n",
    "1. Ask Claude to use the TTS tool\n",
    "2. Claude calls the MCP server tool\n",
    "3. You approve the tool execution (security feature)\n",
    "4. Server generates audio and returns result\n",
    "5. Claude shows you the success message with file details\n",
    "\n",
    "**Tool Permissions:**\n",
    "\n",
    "Claude Desktop will ask permission before executing tools. You can:\n",
    "- ✅ Allow: Execute this specific request\n",
    "- ✅ Allow Always: Auto-approve all requests to this tool\n",
    "- ❌ Deny: Skip this request\n",
    "\n",
    "### Using MCP Server with Cursor\n",
    "\n",
    "**Cursor-Specific Features:**\n",
    "\n",
    "1. **Agent Mode**: Required for MCP integration\n",
    "   ```\n",
    "   Enable: Cursor Settings → Features → Agent Mode: ON\n",
    "   ```\n",
    "\n",
    "2. **Explicit Tool Calls**: Reference tools by name\n",
    "   ```\n",
    "   \"Use the aparsoft-tts generate_speech tool to create audio for 'Hello world'\"\n",
    "   ```\n",
    "\n",
    "3. **Workspace Context**: Cursor can see your files\n",
    "   ```\n",
    "   \"Read script.txt and generate a voiceover using the TTS tool\"\n",
    "   ```\n",
    "\n",
    "**Example Cursor Workflow:**"
   ]
  },
  {
   "cell_type": "code",
   "execution_count": null,
   "id": "59664818",
   "metadata": {},
   "outputs": [],
   "source": [
    "# You: \"Create a voiceover for this script using TTS\"\n",
    "# Cursor sees your workspace, finds script.txt, and:\n",
    "\n",
    "# 1. Reads the script\n",
    "with open('script.txt', 'r') as f:\n",
    "    script_content = f.read()\n",
    "\n",
    "# 2. Calls MCP tool\n",
    "# Cursor uses aparsoft-tts process_script tool\n",
    "# Result: \"✅ Speech generated: complete_voiceover.wav\""
   ]
  },
  {
   "cell_type": "markdown",
   "id": "bebed22c",
   "metadata": {
    "lines_to_next_cell": 0
   },
   "source": [
    "### Testing & Debugging\n",
    "\n",
    "#### Method 1: MCP Inspector (Recommended)\n",
    "\n",
    "**Install Inspector:**"
   ]
  },
  {
   "cell_type": "code",
   "execution_count": null,
   "id": "83633b9c",
   "metadata": {},
   "outputs": [],
   "source": [
    "%%bash\n",
    "npx @modelcontextprotocol/inspector"
   ]
  },
  {
   "cell_type": "markdown",
   "id": "266d1e63",
   "metadata": {
    "lines_to_next_cell": 0
   },
   "source": [
    "**Launch with your server:**"
   ]
  },
  {
   "cell_type": "code",
   "execution_count": null,
   "id": "cf12188f",
   "metadata": {},
   "outputs": [],
   "source": [
    "%%bash\n",
    "npx @modelcontextprotocol/inspector \\\n",
    "  --command \"/path/to/venv/bin/python\" \\\n",
    "  --args \"-m\" \"aparsoft_tts.mcp_server\""
   ]
  },
  {
   "cell_type": "markdown",
   "id": "b2c1ecd2",
   "metadata": {},
   "source": [
    "**Inspector Features:**\n",
    "- Interactive UI at `http://localhost:6274`\n",
    "- Test all tools without Claude/Cursor\n",
    "- View request/response JSON\n",
    "- Export config for Claude/Cursor\n",
    "- Debug connection issues\n",
    "\n",
    "#### Method 2: CLI Testing"
   ]
  },
  {
   "cell_type": "code",
   "execution_count": null,
   "id": "ce52e745",
   "metadata": {},
   "outputs": [],
   "source": [
    "%%bash\n",
    "# List available tools\n",
    "npx @modelcontextprotocol/inspector --cli \\\n",
    "  /path/to/venv/bin/python -m aparsoft_tts.mcp_server \\\n",
    "  --method tools/list\n",
    "\n",
    "# Test generate_speech tool\n",
    "npx @modelcontextprotocol/inspector --cli \\\n",
    "  /path/to/venv/bin/python -m aparsoft_tts.mcp_server \\\n",
    "  --method tools/call \\\n",
    "  --tool-name generate_speech \\\n",
    "  --tool-arg text=\"Test audio\" \\\n",
    "  --tool-arg voice=\"am_michael\""
   ]
  },
  {
   "cell_type": "markdown",
   "id": "90c59cb1",
   "metadata": {},
   "source": [
    "#### Method 3: Direct Python Testing"
   ]
  },
  {
   "cell_type": "code",
   "execution_count": null,
   "id": "1cfd0139",
   "metadata": {},
   "outputs": [],
   "source": [
    "import asyncio\n",
    "from mcp import ClientSession, StdioServerParameters\n",
    "from mcp.client.stdio import stdio_client\n",
    "\n",
    "async def test_mcp_server():\n",
    "    \"\"\"Test MCP server programmatically\"\"\"\n",
    "    \n",
    "    server_params = StdioServerParameters(\n",
    "        command=\"/path/to/venv/bin/python\",\n",
    "        args=[\"-m\", \"aparsoft_tts.mcp_server\"]\n",
    "    )\n",
    "    \n",
    "    async with stdio_client(server_params) as (read, write):\n",
    "        async with ClientSession(read, write) as session:\n",
    "            # Initialize connection\n",
    "            await session.initialize()\n",
    "            \n",
    "            # List available tools\n",
    "            tools = await session.list_tools()\n",
    "            print(\"Available tools:\")\n",
    "            for tool in tools.tools:\n",
    "                print(f\"  - {tool.name}: {tool.description}\")\n",
    "            \n",
    "            # Test generate_speech\n",
    "            result = await session.call_tool(\n",
    "                \"generate_speech\",\n",
    "                arguments={\n",
    "                    \"text\": \"MCP test successful!\",\n",
    "                    \"voice\": \"am_michael\",\n",
    "                    \"output_file\": \"output/mcp_test.wav\"\n",
    "                }\n",
    "            )\n",
    "            \n",
    "            print(f\"\\nResult: {result.content[0].text}\")\n",
    "\n",
    "# Run test\n",
    "asyncio.run(test_mcp_server())"
   ]
  },
  {
   "cell_type": "markdown",
   "id": "4923035c",
   "metadata": {
    "lines_to_next_cell": 0
   },
   "source": [
    "#### Method 4: Check Logs\n",
    "\n",
    "**Claude Desktop Logs:**"
   ]
  },
  {
   "cell_type": "code",
   "execution_count": null,
   "id": "36e5d163",
   "metadata": {},
   "outputs": [],
   "source": [
    "%%bash\n",
    "# macOS\n",
    "tail -f ~/Library/Logs/Claude/mcp*.log\n",
    "\n",
    "# Linux  \n",
    "tail -f ~/.config/Claude/logs/mcp*.log\n",
    "\n",
    "# Windows\n",
    "type %APPDATA%\\Claude\\logs\\mcp*.log"
   ]
  },
  {
   "cell_type": "markdown",
   "id": "e6a587fb",
   "metadata": {
    "lines_to_next_cell": 0
   },
   "source": [
    "**Cursor Logs:**"
   ]
  },
  {
   "cell_type": "code",
   "execution_count": null,
   "id": "21c5f490",
   "metadata": {},
   "outputs": [],
   "source": [
    "%%bash\n",
    "# Check Cursor's output panel\n",
    "# View → Output → Select \"MCP\" from dropdown"
   ]
  },
  {
   "cell_type": "markdown",
   "id": "dffa23e8",
   "metadata": {
    "lines_to_next_cell": 0
   },
   "source": [
    "**Enable Debug Logging:**\n",
    "```json\n",
    "{\n",
    "  \"mcpServers\": {\n",
    "    \"aparsoft-tts\": {\n",
    "      \"command\": \"/path/to/venv/bin/python\",\n",
    "      \"args\": [\"-m\", \"aparsoft_tts.mcp_server\"],\n",
    "      \"env\": {\n",
    "        \"LOG_LEVEL\": \"DEBUG\",\n",
    "        \"DEBUG\": \"true\"\n",
    "      }\n",
    "    }\n",
    "  }\n",
    "}\n",
    "```\n",
    "\n",
    "### Common Issues & Solutions\n",
    "\n",
    "**Issue 1: \"Could not attach to MCP server\"**\n",
    "\n",
    "✅ Solutions:\n",
    "- Use absolute path to Python: `/full/path/to/venv/bin/python`\n",
    "- Verify server runs: `python -m aparsoft_tts.mcp_server`\n",
    "- Check Python version: `python --version` (needs 3.10+)\n",
    "- Restart client completely (not just reload)\n",
    "\n",
    "**Issue 2: \"Tool not found\" or \"No tools available\"**\n",
    "\n",
    "✅ Solutions:"
   ]
  },
  {
   "cell_type": "code",
   "execution_count": null,
   "id": "23f23c0b",
   "metadata": {},
   "outputs": [],
   "source": [
    "%%bash\n",
    "# Verify MCP dependencies\n",
    "pip install -e \".[mcp]\"\n",
    "\n",
    "# Check FastMCP is installed\n",
    "python -c \"from fastmcp import FastMCP; print('OK')\"\n",
    "\n",
    "# Test tool registration\n",
    "python -c \"from aparsoft_tts.mcp_server import mcp; print(mcp._tools.keys())\""
   ]
  },
  {
   "cell_type": "markdown",
   "id": "87898c9e",
   "metadata": {
    "lines_to_next_cell": 0
   },
   "source": [
    "**Issue 3: \"Permission denied\" errors**\n",
    "\n",
    "✅ Solutions:"
   ]
  },
  {
   "cell_type": "code",
   "execution_count": null,
   "id": "b9ed20f6",
   "metadata": {},
   "outputs": [],
   "source": [
    "%%bash\n",
    "# Make server executable\n",
    "chmod +x /path/to/venv/bin/python\n",
    "\n",
    "# Check output directory permissions\n",
    "mkdir -p output && chmod 755 output"
   ]
  },
  {
   "cell_type": "markdown",
   "id": "640ff3de",
   "metadata": {
    "lines_to_next_cell": 0
   },
   "source": [
    "**Issue 4: Audio files not generated**\n",
    "\n",
    "✅ Solutions:"
   ]
  },
  {
   "cell_type": "code",
   "execution_count": null,
   "id": "dd27f0ca",
   "metadata": {},
   "outputs": [],
   "source": [
    "# Check espeak-ng is installed\n",
    "import subprocess\n",
    "subprocess.run([\"espeak-ng\", \"--version\"])\n",
    "\n",
    "# Verify output path exists\n",
    "from pathlib import Path\n",
    "Path(\"output\").mkdir(exist_ok=True)\n",
    "\n",
    "# Test TTS engine directly\n",
    "from aparsoft_tts import TTSEngine\n",
    "engine = TTSEngine()\n",
    "engine.generate(\"test\", \"output/test.wav\")"
   ]
  },
  {
   "cell_type": "markdown",
   "id": "2afa0820",
   "metadata": {},
   "source": [
    "### Advanced MCP Features\n",
    "\n",
    "#### Context Injection"
   ]
  },
  {
   "cell_type": "code",
   "execution_count": null,
   "id": "f6101aef",
   "metadata": {},
   "outputs": [],
   "source": [
    "# MCP servers can access context about the client\n",
    "from fastmcp import Context\n",
    "\n",
    "@mcp.tool()\n",
    "async def smart_generate(text: str, ctx: Context) -> str:\n",
    "    \"\"\"Context-aware generation\"\"\"\n",
    "    \n",
    "    # Log to client\n",
    "    await ctx.info(f\"Generating speech for: {text[:50]}...\")\n",
    "    \n",
    "    # Access server metadata\n",
    "    server_name = ctx.fastmcp.name\n",
    "    \n",
    "    # Use session for advanced features\n",
    "    client_info = ctx.session.client_params\n",
    "    \n",
    "    # Generate audio\n",
    "    result = tts_engine.generate(text)\n",
    "    \n",
    "    return f\"Generated by {server_name}: {result}\""
   ]
  },
  {
   "cell_type": "markdown",
   "id": "286ed626",
   "metadata": {},
   "source": [
    "#### Authentication (Advanced)"
   ]
  },
  {
   "cell_type": "code",
   "execution_count": null,
   "id": "8e391619",
   "metadata": {},
   "outputs": [],
   "source": [
    "# For remote MCP servers (not needed for local stdio)\n",
    "from fastmcp.server.auth import GoogleProvider\n",
    "\n",
    "auth = GoogleProvider(\n",
    "    client_id=\"your-client-id\",\n",
    "    client_secret=\"your-secret\",\n",
    "    base_url=\"https://your-server.com\"\n",
    ")\n",
    "\n",
    "mcp = FastMCP(\"aparsoft-tts\", auth=auth)"
   ]
  },
  {
   "cell_type": "markdown",
   "id": "fa12702c",
   "metadata": {},
   "source": [
    "#### Rate Limiting"
   ]
  },
  {
   "cell_type": "code",
   "execution_count": null,
   "id": "af2ae348",
   "metadata": {},
   "outputs": [],
   "source": [
    "# Configure in MCPConfig\n",
    "mcp_config = MCPConfig(\n",
    "    server_name=\"aparsoft-tts\",\n",
    "    enable_rate_limiting=True,\n",
    "    rate_limit_calls=100,      # Max 100 calls\n",
    "    rate_limit_period=60       # Per 60 seconds\n",
    ")"
   ]
  },
  {
   "cell_type": "markdown",
   "id": "2e13f51a",
   "metadata": {},
   "source": [
    "### Production Deployment\n",
    "\n",
    "#### Remote MCP Server (SSE Transport)"
   ]
  },
  {
   "cell_type": "code",
   "execution_count": null,
   "id": "847b247a",
   "metadata": {},
   "outputs": [],
   "source": [
    "# For cloud deployment\n",
    "from fastmcp import FastMCP\n",
    "\n",
    "mcp = FastMCP(\"aparsoft-tts\")\n",
    "\n",
    "if __name__ == \"__main__\":\n",
    "    # SSE transport for remote access\n",
    "    mcp.run(\n",
    "        transport=\"sse\",\n",
    "        host=\"0.0.0.0\",\n",
    "        port=8000\n",
    "    )"
   ]
  },
  {
   "cell_type": "markdown",
   "id": "adc5a775",
   "metadata": {},
   "source": [
    "**Client Configuration:**\n",
    "```json\n",
    "{\n",
    "  \"mcpServers\": {\n",
    "    \"aparsoft-tts\": {\n",
    "      \"url\": \"https://your-server.com/sse\",\n",
    "      \"transport\": \"sse\"\n",
    "    }\n",
    "  }\n",
    "}\n",
    "```\n",
    "\n",
    "#### Docker Deployment\n",
    "\n",
    "```dockerfile\n",
    "# Dockerfile for MCP server\n",
    "FROM python:3.11-slim\n",
    "\n",
    "WORKDIR /app\n",
    "COPY . .\n",
    "\n",
    "RUN pip install -e \".[mcp]\"\n",
    "\n",
    "CMD [\"python\", \"-m\", \"aparsoft_tts.mcp_server\"]\n",
    "```"
   ]
  },
  {
   "cell_type": "code",
   "execution_count": null,
   "id": "26bb45ef",
   "metadata": {},
   "outputs": [],
   "source": [
    "%%bash\n",
    "# Build and run\n",
    "docker build -t aparsoft-tts-mcp .\n",
    "docker run -it aparsoft-tts-mcp"
   ]
  },
  {
   "cell_type": "markdown",
   "id": "2ffd5d3b",
   "metadata": {},
   "source": [
    "### Best Practices\n",
    "\n",
    "1. **Path Management**\n",
    "   - Always use absolute paths in config\n",
    "   - Use `Path` objects for cross-platform compatibility\n",
    "   \n",
    "2. **Error Messages**\n",
    "   - Return helpful error messages from tools\n",
    "   - Include suggested fixes in error text\n",
    "   \n",
    "3. **Tool Descriptions**\n",
    "   - Write clear docstrings (used in tool schema)\n",
    "   - Include examples in descriptions\n",
    "   \n",
    "4. **Type Safety**\n",
    "   - Use Pydantic models for validation\n",
    "   - Leverage Python type hints\n",
    "   \n",
    "5. **Logging**\n",
    "   - Log all tool calls with correlation IDs\n",
    "   - Include context in log messages\n",
    "\n",
    "### Additional Resources\n",
    "\n",
    "- **FastMCP Docs**: https://github.com/jlowin/fastmcp\n",
    "- **MCP Specification**: https://modelcontextprotocol.io\n",
    "- **MCP Inspector**: https://github.com/modelcontextprotocol/inspector\n",
    "- **Example Servers**: https://github.com/modelcontextprotocol/servers\n",
    "- **Claude MCP Guide**: https://docs.anthropic.com/claude/docs/mcp\n",
    "\n",
    "---\n",
    "\n",
    "## Production Deployment\n",
    "\n",
    "### Docker Deployment\n",
    "\n",
    "```dockerfile\n",
    "# The project includes a production-ready Dockerfile\n",
    "# Key features:\n",
    "# - Multi-stage build for optimization\n",
    "# - Non-root user (ttsuser)\n",
    "# - Health checks\n",
    "# - System dependencies included\n",
    "# - Both CPU and GPU variants\n",
    "```\n",
    "\n",
    "### Building Docker Image\n"
   ]
  },
  {
   "cell_type": "code",
   "execution_count": null,
   "id": "9faa9c96",
   "metadata": {},
   "outputs": [],
   "source": [
    "%%bash\n",
    "%%bash\n",
    "# Build the Docker image\n",
    "docker build -t aparsoft-tts:latest .\n",
    "\n",
    "# Build GPU variant (optional)\n",
    "docker build -t aparsoft-tts:gpu --target gpu .\n",
    "\n",
    "# Verify image\n",
    "docker images | grep aparsoft-tts"
   ]
  },
  {
   "cell_type": "markdown",
   "id": "2473a9ce",
   "metadata": {},
   "source": [
    "### Running with Docker\n"
   ]
  },
  {
   "cell_type": "code",
   "execution_count": null,
   "id": "df83c976",
   "metadata": {},
   "outputs": [],
   "source": [
    "%%bash\n",
    "%%bash\n",
    "# Run MCP server in Docker\n",
    "docker run -d \\\n",
    "  --name aparsoft-tts-server \\\n",
    "  -v $(pwd)/outputs:/app/outputs \\\n",
    "  -v $(pwd)/logs:/app/logs \\\n",
    "  aparsoft-tts:latest\n",
    "\n",
    "# Check logs\n",
    "docker logs -f aparsoft-tts-server\n",
    "\n",
    "# Run CLI commands in Docker\n",
    "docker run --rm \\\n",
    "  -v $(pwd)/outputs:/app/outputs \\\n",
    "  aparsoft-tts:latest \\\n",
    "  aparsoft-tts generate \"Docker test\" -o /app/outputs/docker_test.wav\n",
    "\n",
    "# Interactive Python shell in Docker\n",
    "docker run -it --rm aparsoft-tts:latest python"
   ]
  },
  {
   "cell_type": "markdown",
   "id": "b0ed125c",
   "metadata": {},
   "source": [
    "### Docker Compose Deployment\n"
   ]
  },
  {
   "cell_type": "code",
   "execution_count": null,
   "id": "3626f96a",
   "metadata": {},
   "outputs": [],
   "source": [
    "%%bash\n",
    "%%bash\n",
    "# Start services with docker-compose\n",
    "docker-compose up -d\n",
    "\n",
    "# View logs\n",
    "docker-compose logs -f\n",
    "\n",
    "# Scale services\n",
    "docker-compose up -d --scale aparsoft-tts=3\n",
    "\n",
    "# Stop services\n",
    "docker-compose down"
   ]
  },
  {
   "cell_type": "markdown",
   "id": "d168935d",
   "metadata": {},
   "source": [
    "### Environment Variables in Production\n"
   ]
  },
  {
   "cell_type": "code",
   "execution_count": null,
   "id": "1decf5c2",
   "metadata": {},
   "outputs": [],
   "source": [
    "# Production configuration via environment variables\n",
    "# Set in docker-compose.yml or .env file\n",
    "\n",
    "production_env = {\n",
    "    # TTS Settings\n",
    "    \"TTS_VOICE\": \"am_michael\",\n",
    "    \"TTS_SPEED\": \"1.0\",\n",
    "    \"TTS_ENHANCE_AUDIO\": \"true\",\n",
    "\n",
    "    # MCP Server Settings\n",
    "    \"MCP_SERVER_NAME\": \"aparsoft-tts-production\",\n",
    "    \"MCP_ENABLE_RATE_LIMITING\": \"true\",\n",
    "    \"MCP_RATE_LIMIT_CALLS\": \"100\",\n",
    "    \"MCP_RATE_LIMIT_PERIOD\": \"60\",\n",
    "\n",
    "    # Logging Settings\n",
    "    \"LOG_LEVEL\": \"WARNING\",\n",
    "    \"LOG_FORMAT\": \"json\",\n",
    "    \"LOG_OUTPUT\": \"file\",\n",
    "    \"LOG_FILE\": \"/app/logs/production.log\",\n",
    "\n",
    "    # Environment\n",
    "    \"ENVIRONMENT\": \"production\",\n",
    "    \"DEBUG\": \"false\"\n",
    "}\n",
    "\n",
    "for key, value in production_env.items():\n",
    "    print(f\"{key}={value}\")"
   ]
  },
  {
   "cell_type": "markdown",
   "id": "56993dd7",
   "metadata": {},
   "source": [
    "---\n",
    "\n",
    "## Testing and Debugging\n",
    "\n",
    "### Running Unit Tests\n"
   ]
  },
  {
   "cell_type": "code",
   "execution_count": null,
   "id": "cf770fc9",
   "metadata": {},
   "outputs": [],
   "source": [
    "%%bash\n",
    "%%bash\n",
    "# Run all tests\n",
    "pytest\n",
    "\n",
    "# Run with verbose output\n",
    "pytest -v\n",
    "\n",
    "# Run specific test file\n",
    "pytest tests/unit/test_engine.py\n",
    "\n",
    "# Run with coverage\n",
    "pytest --cov=aparsoft_tts --cov-report=html\n",
    "\n",
    "# Run only fast tests (skip slow ones)\n",
    "pytest -m \"not slow\""
   ]
  },
  {
   "cell_type": "markdown",
   "id": "173e55e1",
   "metadata": {},
   "source": [
    "### Writing Custom Tests\n"
   ]
  },
  {
   "cell_type": "code",
   "execution_count": null,
   "id": "15349647",
   "metadata": {},
   "outputs": [],
   "source": [
    "import pytest\n",
    "from aparsoft_tts import TTSEngine\n",
    "from pathlib import Path\n",
    "\n",
    "def test_basic_generation(tmp_path):\n",
    "    \"\"\"Test basic audio generation\"\"\"\n",
    "    engine = TTSEngine()\n",
    "\n",
    "    output = tmp_path / \"test.wav\"\n",
    "    result = engine.generate(\n",
    "        text=\"Test audio\",\n",
    "        output_path=output\n",
    "    )\n",
    "\n",
    "    assert output.exists()\n",
    "    assert output.stat().st_size > 0\n",
    "    assert result == output\n",
    "\n",
    "def test_invalid_voice():\n",
    "    \"\"\"Test that invalid voice raises error\"\"\"\n",
    "    engine = TTSEngine()\n",
    "\n",
    "    with pytest.raises(Exception):  # Should raise InvalidVoiceError\n",
    "        engine.generate(\"Test\", voice=\"invalid_voice\")\n",
    "\n",
    "def test_batch_generation(tmp_path):\n",
    "    \"\"\"Test batch processing\"\"\"\n",
    "    engine = TTSEngine()\n",
    "\n",
    "    texts = [\"First\", \"Second\", \"Third\"]\n",
    "    paths = engine.batch_generate(texts, output_dir=tmp_path)\n",
    "\n",
    "    assert len(paths) == 3\n",
    "    for path in paths:\n",
    "        assert path.exists()\n",
    "\n",
    "# Run these tests\n",
    "# pytest test_custom.py -v"
   ]
  },
  {
   "cell_type": "markdown",
   "id": "7711de69",
   "metadata": {},
   "source": [
    "### Debug Logging\n"
   ]
  },
  {
   "cell_type": "code",
   "execution_count": null,
   "id": "9e234896",
   "metadata": {},
   "outputs": [],
   "source": [
    "from aparsoft_tts.utils.logging import setup_logging, get_logger\n",
    "from aparsoft_tts.config import LoggingConfig\n",
    "\n",
    "# Configure debug logging\n",
    "debug_config = LoggingConfig(\n",
    "    level=\"DEBUG\",\n",
    "    format=\"console\",\n",
    "    output=\"stdout\",\n",
    "    include_timestamp=True,\n",
    "    include_caller=True\n",
    ")\n",
    "\n",
    "setup_logging(debug_config)\n",
    "\n",
    "# Get logger\n",
    "log = get_logger(__name__)\n",
    "\n",
    "# Log debug information\n",
    "log.debug(\"starting_generation\", text=\"test\", voice=\"am_michael\")\n",
    "\n",
    "# Now run TTS with debug logs\n",
    "engine = TTSEngine()\n",
    "engine.generate(\"Debug test\", \"output/debug_test.wav\")"
   ]
  },
  {
   "cell_type": "markdown",
   "id": "7c7dbab8",
   "metadata": {},
   "source": [
    "### Error Handling\n"
   ]
  },
  {
   "cell_type": "code",
   "execution_count": null,
   "id": "6685c1a0",
   "metadata": {},
   "outputs": [],
   "source": [
    "from aparsoft_tts.utils.exceptions import (\n",
    "    TTSGenerationError,\n",
    "    InvalidVoiceError,\n",
    "    AudioProcessingError\n",
    ")\n",
    "\n",
    "def safe_generate(text, output_path, **kwargs):\n",
    "    \"\"\"Generate with comprehensive error handling\"\"\"\n",
    "    try:\n",
    "        engine = TTSEngine()\n",
    "        result = engine.generate(text, output_path, **kwargs)\n",
    "        print(f\"✅ Success: {result}\")\n",
    "        return result\n",
    "\n",
    "    except InvalidVoiceError as e:\n",
    "        print(f\"❌ Invalid voice: {e}\")\n",
    "        print(\"Available voices:\", TTSEngine.list_voices())\n",
    "\n",
    "    except AudioProcessingError as e:\n",
    "        print(f\"❌ Audio processing failed: {e}\")\n",
    "        print(\"Try disabling enhancement: enhance=False\")\n",
    "\n",
    "    except TTSGenerationError as e:\n",
    "        print(f\"❌ Generation failed: {e}\")\n",
    "        print(\"Check input text and parameters\")\n",
    "\n",
    "    except Exception as e:\n",
    "        print(f\"❌ Unexpected error: {e}\")\n",
    "        raise\n",
    "\n",
    "    return None\n",
    "\n",
    "# Test error handling\n",
    "safe_generate(\"Test\", \"output/test.wav\", voice=\"invalid\")"
   ]
  },
  {
   "cell_type": "markdown",
   "id": "4b3cfc5e",
   "metadata": {},
   "source": [
    "---\n",
    "\n",
    "## Performance Optimization\n",
    "\n",
    "### Benchmarking Generation Speed\n"
   ]
  },
  {
   "cell_type": "code",
   "execution_count": null,
   "id": "436577f3",
   "metadata": {},
   "outputs": [],
   "source": [
    "import time\n",
    "from statistics import mean, stdev\n",
    "\n",
    "def benchmark_generation(text, iterations=5):\n",
    "    \"\"\"Benchmark TTS generation speed\"\"\"\n",
    "    engine = TTSEngine()\n",
    "    times = []\n",
    "\n",
    "    # Warm-up (model loading)\n",
    "    engine.generate(text)\n",
    "\n",
    "    # Benchmark\n",
    "    for i in range(iterations):\n",
    "        start = time.time()\n",
    "        engine.generate(text)\n",
    "        elapsed = time.time() - start\n",
    "        times.append(elapsed)\n",
    "        print(f\"Iteration {i+1}: {elapsed:.3f}s\")\n",
    "\n",
    "    avg_time = mean(times)\n",
    "    std_time = stdev(times) if len(times) > 1 else 0\n",
    "\n",
    "    print(f\"\\nAverage: {avg_time:.3f}s ± {std_time:.3f}s\")\n",
    "    print(f\"Characters: {len(text)}\")\n",
    "    print(f\"Speed: {len(text) / avg_time:.1f} chars/second\")\n",
    "\n",
    "    return avg_time\n",
    "\n",
    "# Run benchmark\n",
    "test_text = \"This is a benchmark test for text-to-speech generation speed.\"\n",
    "benchmark_generation(test_text, iterations=10)"
   ]
  },
  {
   "cell_type": "markdown",
   "id": "44264d61",
   "metadata": {},
   "source": [
    "### Optimization Techniques\n"
   ]
  },
  {
   "cell_type": "code",
   "execution_count": null,
   "id": "4e596f4b",
   "metadata": {},
   "outputs": [],
   "source": [
    "from aparsoft_tts import TTSEngine, TTSConfig\n",
    "\n",
    "# 1. Disable enhancement for faster generation\n",
    "fast_config = TTSConfig(enhance_audio=False)\n",
    "fast_engine = TTSEngine(config=fast_config)\n",
    "\n",
    "# 2. Reuse engine instance\n",
    "engine = TTSEngine()  # Create once\n",
    "\n",
    "# Generate many times with same instance\n",
    "for i in range(100):\n",
    "    engine.generate(f\"Text {i}\", f\"output/batch_{i}.wav\")\n",
    "    # Much faster than creating new engine each time\n",
    "\n",
    "# 3. Use streaming for long texts\n",
    "long_text = \"Long text here...\" * 100\n",
    "\n",
    "# This starts producing audio sooner\n",
    "for chunk in engine.generate_stream(long_text):\n",
    "    # Process chunk immediately\n",
    "    pass\n",
    "\n",
    "# 4. Parallel processing with multiprocessing\n",
    "from multiprocessing import Pool\n",
    "\n",
    "def generate_one(args):\n",
    "    text, output = args\n",
    "    engine = TTSEngine()\n",
    "    return engine.generate(text, output)\n",
    "\n",
    "texts_and_outputs = [\n",
    "    (\"Text 1\", \"output/parallel_1.wav\"),\n",
    "    (\"Text 2\", \"output/parallel_2.wav\"),\n",
    "    (\"Text 3\", \"output/parallel_3.wav\"),\n",
    "]\n",
    "\n",
    "with Pool(processes=3) as pool:\n",
    "    results = pool.map(generate_one, texts_and_outputs)\n",
    "\n",
    "print(f\"Generated {len(results)} files in parallel\")"
   ]
  },
  {
   "cell_type": "markdown",
   "id": "d3b0717e",
   "metadata": {},
   "source": [
    "### Memory Profiling\n"
   ]
  },
  {
   "cell_type": "code",
   "execution_count": null,
   "id": "d984c159",
   "metadata": {},
   "outputs": [],
   "source": [
    "import tracemalloc\n",
    "from aparsoft_tts import TTSEngine\n",
    "\n",
    "def profile_memory():\n",
    "    \"\"\"Profile memory usage during generation\"\"\"\n",
    "\n",
    "    # Start tracing\n",
    "    tracemalloc.start()\n",
    "\n",
    "    # Get baseline\n",
    "    snapshot1 = tracemalloc.take_snapshot()\n",
    "\n",
    "    # Generate audio\n",
    "    engine = TTSEngine()\n",
    "    engine.generate(\"Memory profiling test\" * 50, \"output/memory_test.wav\")\n",
    "\n",
    "    # Take snapshot after generation\n",
    "    snapshot2 = tracemalloc.take_snapshot()\n",
    "\n",
    "    # Compare\n",
    "    top_stats = snapshot2.compare_to(snapshot1, 'lineno')\n",
    "\n",
    "    print(\"[ Top 10 Memory Usage ]\")\n",
    "    for stat in top_stats[:10]:\n",
    "        print(stat)\n",
    "\n",
    "    # Stop tracing\n",
    "    tracemalloc.stop()\n",
    "\n",
    "# Run profiler\n",
    "# profile_memory()\n",
    "print(\"Memory profiling requires tracemalloc module\")"
   ]
  },
  {
   "cell_type": "markdown",
   "id": "53c3d433",
   "metadata": {},
   "source": [
    "### Caching Strategy\n"
   ]
  },
  {
   "cell_type": "code",
   "execution_count": null,
   "id": "7cb3cc70",
   "metadata": {},
   "outputs": [],
   "source": [
    "from functools import lru_cache\n",
    "import hashlib\n",
    "\n",
    "class CachedTTSEngine:\n",
    "    \"\"\"TTS Engine with caching for repeated texts\"\"\"\n",
    "\n",
    "    def __init__(self):\n",
    "        self.engine = TTSEngine()\n",
    "        self.cache_dir = Path(\"output/cache\")\n",
    "        self.cache_dir.mkdir(exist_ok=True)\n",
    "\n",
    "    def _get_cache_key(self, text, voice, speed):\n",
    "        \"\"\"Generate cache key from parameters\"\"\"\n",
    "        key_str = f\"{text}_{voice}_{speed}\"\n",
    "        return hashlib.md5(key_str.encode()).hexdigest()\n",
    "\n",
    "    def generate_cached(self, text, voice=\"am_michael\", speed=1.0):\n",
    "        \"\"\"Generate with caching\"\"\"\n",
    "        cache_key = self._get_cache_key(text, voice, speed)\n",
    "        cache_file = self.cache_dir / f\"{cache_key}.wav\"\n",
    "\n",
    "        if cache_file.exists():\n",
    "            print(f\"✅ Cache hit: {cache_key}\")\n",
    "            from aparsoft_tts.utils.audio import load_audio\n",
    "            audio, _ = load_audio(cache_file)\n",
    "            return audio\n",
    "        else:\n",
    "            print(f\"⏳ Cache miss: generating...\")\n",
    "            audio = self.engine.generate(\n",
    "                text,\n",
    "                output_path=cache_file,\n",
    "                voice=voice,\n",
    "                speed=speed\n",
    "            )\n",
    "            return audio\n",
    "\n",
    "# Test caching\n",
    "cached_engine = CachedTTSEngine()\n",
    "\n",
    "# First call - cache miss\n",
    "cached_engine.generate_cached(\"Repeating text for cache test\")\n",
    "\n",
    "# Second call - cache hit (much faster)\n",
    "cached_engine.generate_cached(\"Repeating text for cache test\")"
   ]
  },
  {
   "cell_type": "markdown",
   "id": "15c63bf4",
   "metadata": {},
   "source": [
    "---\n",
    "\n",
    "## Conclusion\n",
    "\n",
    "This tutorial covered Aparsoft TTS from basic usage to advanced production deployment:\n",
    "\n",
    "### Key Takeaways\n",
    "\n",
    "1. **Setup**: System dependencies, Python package, verification\n",
    "2. **Basic Usage**: Engine initialization, simple generation, voice selection\n",
    "3. **Audio Processing**: Enhancement, streaming, custom processing\n",
    "4. **Batch Operations**: Multiple files, different voices/speeds\n",
    "5. **Script Processing**: Video workflows, paragraph detection, segment combination\n",
    "6. **Configuration**: Pydantic models, environment variables, hierarchical config\n",
    "7. **CLI**: Command-line interface for quick tasks\n",
    "8. **MCP Integration**: Server setup, Claude/Cursor integration\n",
    "9. **Production**: Docker deployment, environment management, scaling\n",
    "10. **Testing**: Unit tests, debugging, error handling\n",
    "11. **Performance**: Benchmarking, optimization, caching\n",
    "\n",
    "### Next Steps\n",
    "\n",
    "1. **Explore Examples**: Check `examples/` directory for more patterns\n",
    "2. **Read Source Code**: Well-documented code in `aparsoft_tts/`\n",
    "3. **Contribute**: See `CONTRIBUTING.md` for guidelines\n",
    "4. **Deploy**: Use Docker for production deployments\n",
    "5. **Integrate**: Connect with your existing workflows\n",
    "\n",
    "### Resources\n",
    "\n",
    "- **GitHub**: https://github.com/aparsoft/youtube-tts\n",
    "- **Documentation**: README.md, QUICKSTART.md\n",
    "- **Support**: contact@aparsoft.com\n",
    "- **Website**: https://aparsoft.com\n",
    "\n",
    "---\n",
    "\n",
    "**Happy Voice Generation! 🎙️**"
   ]
  }
 ],
 "metadata": {
  "jupytext": {
   "cell_metadata_filter": "-all",
   "main_language": "python",
   "notebook_metadata_filter": "-all"
  },
  "language_info": {
   "name": "python"
  }
 },
 "nbformat": 4,
 "nbformat_minor": 5
}
